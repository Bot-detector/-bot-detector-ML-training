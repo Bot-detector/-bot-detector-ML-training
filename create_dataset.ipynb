{
 "cells": [
  {
   "cell_type": "code",
   "execution_count": 1,
   "metadata": {},
   "outputs": [
    {
     "name": "stderr",
     "output_type": "stream",
     "text": [
      "\n",
      "[notice] A new release of pip available: 22.2.2 -> 22.3\n",
      "[notice] To update, run: python.exe -m pip install --upgrade pip\n",
      "\n",
      "[notice] A new release of pip available: 22.2.2 -> 22.3\n",
      "[notice] To update, run: python.exe -m pip install --upgrade pip\n",
      "\n",
      "[notice] A new release of pip available: 22.2.2 -> 22.3\n",
      "[notice] To update, run: python.exe -m pip install --upgrade pip\n"
     ]
    }
   ],
   "source": [
    "!pip install pymysql --quiet\n",
    "!pip install sqlalchemy --quiet\n",
    "!pip install pyarrow --quiet"
   ]
  },
  {
   "cell_type": "code",
   "execution_count": 2,
   "metadata": {},
   "outputs": [],
   "source": [
    "user = input(\"user: \")\n",
    "password = input(\"password: \")\n",
    "ip = input(\"ip: \")\n",
    "key = input(\"key: \")"
   ]
  },
  {
   "cell_type": "code",
   "execution_count": 3,
   "metadata": {},
   "outputs": [],
   "source": [
    "from sqlalchemy import create_engine\n",
    "import pandas as pd\n",
    "\n",
    "sql_uri = f'mysql+pymysql://{user}:{password}@{ip}:3306/playerdata'\n",
    "\n",
    "engine = create_engine(sql_uri)\n",
    "sql=f'''\n",
    "select \n",
    "    HEX(AES_ENCRYPT(pl.name, \"{key}\")) as name, \n",
    "    pl.created_at, \n",
    "    pl.updated_at, \n",
    "    pl.possible_ban, \n",
    "    pl.confirmed_ban, \n",
    "    pl.label_id, \n",
    "    lb.label,\n",
    "    case \n",
    "        when label_jagex = 2 then \"banned\"\n",
    "        else null\n",
    "    end as account_status,\n",
    "    phd.*\n",
    "from Players pl \n",
    "join playerHiscoreDataLatest phd on pl.id = phd.Player_id\n",
    "join Labels lb on pl.label_id = lb.id\n",
    "where pl.label_id <> 0'''\n",
    "with engine.connect() as conn:\n",
    "    df = pd.read_sql(sql, params=None ,con=conn)\n",
    "df"
   ]
  },
  {
   "cell_type": "code",
   "execution_count": null,
   "metadata": {},
   "outputs": [],
   "source": [
    "SKILLS = [\n",
    "    \"attack\",\n",
    "    \"defence\",\n",
    "    \"strength\",\n",
    "    \"hitpoints\",\n",
    "    \"ranged\",\n",
    "    \"prayer\",\n",
    "    \"magic\",\n",
    "    \"cooking\",\n",
    "    \"woodcutting\",\n",
    "    \"fletching\",\n",
    "    \"fishing\",\n",
    "    \"firemaking\",\n",
    "    \"crafting\",\n",
    "    \"smithing\",\n",
    "    \"mining\",\n",
    "    \"herblore\",\n",
    "    \"agility\",\n",
    "    \"thieving\",\n",
    "    \"slayer\",\n",
    "    \"farming\",\n",
    "    \"runecraft\",\n",
    "    \"hunter\",\n",
    "    \"construction\",\n",
    "]\n",
    "MINIGAMES = [\n",
    "    \"league\",\n",
    "    \"bounty_hunter_hunter\",\n",
    "    \"bounty_hunter_rogue\",\n",
    "    \"cs_all\",\n",
    "    \"cs_beginner\",\n",
    "    \"cs_easy\",\n",
    "    \"cs_medium\",\n",
    "    \"cs_hard\",\n",
    "    \"cs_elite\",\n",
    "    \"cs_master\",\n",
    "    \"lms_rank\",\n",
    "    \"soul_wars_zeal\",\n",
    "]\n",
    "BOSSES = [\n",
    "    \"abyssal_sire\",\n",
    "    \"alchemical_hydra\",\n",
    "    \"barrows_chests\",\n",
    "    \"bryophyta\",\n",
    "    \"callisto\",\n",
    "    \"cerberus\",\n",
    "    \"chambers_of_xeric\",\n",
    "    \"chambers_of_xeric_challenge_mode\",\n",
    "    \"chaos_elemental\",\n",
    "    \"chaos_fanatic\",\n",
    "    \"commander_zilyana\",\n",
    "    \"corporeal_beast\",\n",
    "    \"crazy_archaeologist\",\n",
    "    \"dagannoth_prime\",\n",
    "    \"dagannoth_rex\",\n",
    "    \"dagannoth_supreme\",\n",
    "    \"deranged_archaeologist\",\n",
    "    \"general_graardor\",\n",
    "    \"giant_mole\",\n",
    "    \"grotesque_guardians\",\n",
    "    \"hespori\",\n",
    "    \"kalphite_queen\",\n",
    "    \"king_black_dragon\",\n",
    "    \"kraken\",\n",
    "    \"kreearra\",\n",
    "    \"kril_tsutsaroth\",\n",
    "    \"mimic\",\n",
    "    \"nex\",\n",
    "    \"nightmare\",\n",
    "    \"phosanis_nightmare\",\n",
    "    \"obor\",\n",
    "    \"sarachnis\",\n",
    "    \"scorpia\",\n",
    "    \"skotizo\",\n",
    "    \"Tempoross\",\n",
    "    \"the_gauntlet\",\n",
    "    \"the_corrupted_gauntlet\",\n",
    "    \"theatre_of_blood\",\n",
    "    \"theatre_of_blood_hard\",\n",
    "    \"thermonuclear_smoke_devil\",\n",
    "    \"tombs_of_amascut\",\n",
    "    \"tombs_of_amascut_expert\",\n",
    "    \"tzkal_zuk\",\n",
    "    \"tztok_jad\",\n",
    "    \"venenatis\",\n",
    "    \"vetion\",\n",
    "    \"vorkath\",\n",
    "    \"wintertodt\",\n",
    "    \"zalcano\",\n",
    "    \"zulrah\",\n",
    "]\n",
    "HISCORE_COLUMNS = [\"total\"] + SKILLS + MINIGAMES + BOSSES"
   ]
  },
  {
   "cell_type": "code",
   "execution_count": null,
   "metadata": {},
   "outputs": [],
   "source": [
    "df[HISCORE_COLUMNS] = df[HISCORE_COLUMNS].replace(-1, 0)\n",
    "df[\"total\"] = df[SKILLS].sum(axis=1)"
   ]
  },
  {
   "cell_type": "code",
   "execution_count": null,
   "metadata": {},
   "outputs": [
    {
     "data": {
      "text/plain": [
       "'2022-10-24'"
      ]
     },
     "execution_count": 11,
     "metadata": {},
     "output_type": "execute_result"
    }
   ],
   "source": [
    "from datetime import datetime \n",
    "now = datetime.now().strftime(\"%Y-%m-%d\")\n",
    "now"
   ]
  },
  {
   "cell_type": "code",
   "execution_count": null,
   "metadata": {},
   "outputs": [],
   "source": [
    "df.to_parquet(\n",
    "    f'data/{now}_hiscore_data.parquet.gzip',\n",
    "    compression='gzip'\n",
    ")\n"
   ]
  }
 ],
 "metadata": {
  "kernelspec": {
   "display_name": "Python 3.9.4 ('venv')",
   "language": "python",
   "name": "python3"
  },
  "language_info": {
   "codemirror_mode": {
    "name": "ipython",
    "version": 3
   },
   "file_extension": ".py",
   "mimetype": "text/x-python",
   "name": "python",
   "nbconvert_exporter": "python",
   "pygments_lexer": "ipython3",
   "version": "3.9.4"
  },
  "orig_nbformat": 4,
  "vscode": {
   "interpreter": {
    "hash": "23ed52d458d035919406e9ce163f8dc055ec9f3b533bd2f60afa3027777a14f6"
   }
  }
 },
 "nbformat": 4,
 "nbformat_minor": 2
}
