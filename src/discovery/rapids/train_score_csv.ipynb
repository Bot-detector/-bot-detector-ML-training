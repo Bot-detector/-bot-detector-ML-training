{
 "cells": [
  {
   "cell_type": "code",
   "execution_count": null,
   "metadata": {},
   "outputs": [],
   "source": [
    "# Ensure RAPIDS env is set up properly\n",
    "import cudf\n",
    "import cuml\n",
    "print(cudf.Series([1,2,3]))"
   ]
  },
  {
   "cell_type": "code",
   "execution_count": null,
   "metadata": {},
   "outputs": [],
   "source": [
    "import gc\n",
    "import sys\n",
    "import os\n",
    "import os.path\n",
    "from pathlib import Path\n",
    "# print(os.path.realpath(__file__))\n",
    "sys.path.append(str(Path(sys.argv[0]).absolute().parent.parent.parent.parent.parent))\n",
    "base_repo = os.path.realpath(os.path.join(os.getcwd(), \"../../../\"))\n",
    "print(base_repo)\n",
    "sys.path.append(base_repo)\n",
    "# add the entire folder to path\n",
    "print(sys.path)\n",
    "print(os.getcwd())\n"
   ]
  },
  {
   "cell_type": "code",
   "execution_count": null,
   "metadata": {},
   "outputs": [],
   "source": [
    "from src.discovery.rapids import data\n",
    "from src.discovery.rapids import classifier\n"
   ]
  },
  {
   "cell_type": "code",
   "execution_count": null,
   "metadata": {},
   "outputs": [],
   "source": [
    "\n",
    "OUTPUT_DIR = os.path.realpath('./output/')\n",
    "PATH_TO_CSV = os.path.realpath('../../data/raw/2022-10-26_hiscore_data.csv')\n",
    "if PATH_TO_CSV is None or not os.path.exists(PATH_TO_CSV):\n",
    "    print('set PATH_TO_CSV=/path/to/2022-10-26_hiscore_data.csv and run all')\n",
    "    raise ValueError\n",
    "\n",
    "df = cudf.read_csv(PATH_TO_CSV)"
   ]
  },
  {
   "cell_type": "code",
   "execution_count": null,
   "metadata": {},
   "outputs": [],
   "source": [
    "# This logic is roughly equivalent to app.py's train function\n",
    "hiscoredata = data.hiscoreData(df, False)\n",
    "del df\n"
   ]
  },
  {
   "cell_type": "code",
   "execution_count": null,
   "metadata": {},
   "outputs": [],
   "source": [
    "\n",
    "features = hiscoredata.features()\n"
   ]
  },
  {
   "cell_type": "code",
   "execution_count": null,
   "metadata": {},
   "outputs": [],
   "source": [
    "\n",
    "# no playerData()-related data, its already in features\n",
    "# features_labeled = features\n",
    "binary_classifier = classifier.classifier(\"binaryClassifier\")\n",
    "# Logic should be the same as app.py line 179: train the model \n",
    "x = features.copy()\n",
    "y = x['label'].apply(lambda x: 0 if x == 'Real_Player' else 1)\n",
    "# TODO: one-hot encode account status\n",
    "print('unique account_status values:', x['account_status'].unique())\n",
    "# TODO: using created_at, updated_at epoch times slightly improve binary classifier\n",
    "# x['created_at'] = pd.to_datetime(x['created_at'], format=\"%Y-%m-%d %H:%M:%S\").apply(lambda x: (x - pd.Timestamp(\"1970-01-01\")) / pd.Timedelta(\"1s\"))\n",
    "# x['updated_at'] = pd.to_datetime(x['updated_at'], format=\"%Y-%m-%d %H:%M:%S\").apply(lambda x: (x - pd.Timestamp(\"1970-01-01\")) / pd.Timedelta(\"1s\"))\n",
    "# print(x['created_at'].head())\n",
    "x.drop(columns=['label', 'label_id', 'name', 'created_at', 'updated_at', 'account_status', 'possible_ban', 'confirmed_ban'], inplace=True)\n",
    "print('x columns:\\n', x.columns)\n",
    "print('x head:\\n', x.head())\n",
    "print('y head:\\n', y.head())\n",
    "x.describe()\n"
   ]
  },
  {
   "cell_type": "code",
   "execution_count": null,
   "metadata": {},
   "outputs": [],
   "source": [
    "# This logic is roughly equivalent to app.py's train function\n",
    "def fit_score(classifier, x, y, rpt=True):\n",
    "    # This logic is roughly equivalent to app.py's train function\n",
    "    train_x, test_x, train_y, test_y = cuml.model_selection.train_test_split(\n",
    "        x, y, test_size=0.2, random_state=42, stratify=y\n",
    "    )\n",
    "    del x\n",
    "    del y\n",
    "    gc.collect()\n",
    "    classifier.fit(train_x, train_y)\n",
    "\n",
    "    accuracy, roc_auc = classifier.score(test_y, test_x)\n",
    "    if rpt:\n",
    "        print(f'accuracy: {accuracy}, roc_auc: {roc_auc}')\n",
    "    # OUTPUT: (0.9992126580557206, 0.9992126580557205)\n",
    "    \n",
    "    if rpt:\n",
    "        print(\n",
    "            cuml.metrics.confusion_matrix(\n",
    "                y_true=test_y, \n",
    "                y_pred=classifier.predict(test_x),\n",
    "                convert_dtype=True\n",
    "            )\n",
    "        )\n",
    "    return accuracy\n"
   ]
  },
  {
   "cell_type": "code",
   "execution_count": null,
   "metadata": {},
   "outputs": [],
   "source": [
    "\n",
    "fit_score(binary_classifier, x, y)\n",
    "print(binary_classifier.rfc.get_summary_text())\n",
    "print(binary_classifier.rfc.get_detailed_text())\n"
   ]
  },
  {
   "cell_type": "code",
   "execution_count": null,
   "metadata": {},
   "outputs": [],
   "source": [
    "\n",
    "del binary_classifier.rfc\n",
    "del binary_classifier\n",
    "gc.collect()\n"
   ]
  },
  {
   "cell_type": "code",
   "execution_count": null,
   "metadata": {},
   "outputs": [],
   "source": [
    "# Output of block is x_multi, y_multi. Fiddle around with data here.\n",
    "multi_classifier = classifier.classifier(\"multiClassifier\")\n",
    "# dt_multi_classifier = classifier.DTclassifier(\"DTmultiClassifier\")\n",
    "y_labels = features['label_id'].value_counts()\n",
    "y_labels = y_labels[y_labels.values > 500]\n",
    "# y_labels = [label for label, value in y_labels.items() if value > 500]\n",
    "# To inspect just bots:\n",
    "# y_labels.remove('Real_Player')\n",
    "x_multi = features.copy()\n",
    "x_multi = x_multi[x_multi['label_id'].isin(y_labels.index.unique())]\n",
    "# label_to_id = dict((label, label_id) for label_id, label in enumerate(x_multi['label'].unique()))\n",
    "y_multi = x_multi['label_id'] #.apply(lambda x: label_to_id[x])\n",
    "x_multi.drop(columns=['label', 'label_id', 'name', 'created_at', 'updated_at', 'account_status', 'possible_ban', 'confirmed_ban'], inplace=True)\n",
    "\n",
    "print('x_multi columns:\\n', x_multi.columns)\n",
    "print('x_multi head:\\n', x_multi.head())\n",
    "print('y_multi head:\\n', y_multi.head())\n"
   ]
  },
  {
   "cell_type": "code",
   "execution_count": null,
   "metadata": {},
   "outputs": [],
   "source": [
    "\n",
    "fit_score(multi_classifier, x_multi, y_multi)\n",
    "print(multi_classifier.rfc.get_summary_text())\n",
    "print(multi_classifier.rfc.get_detailed_text())\n"
   ]
  },
  {
   "cell_type": "code",
   "execution_count": null,
   "metadata": {},
   "outputs": [],
   "source": [
    "del multi_classifier\n",
    "del x_multi\n",
    "del y_multi"
   ]
  },
  {
   "cell_type": "code",
   "execution_count": null,
   "metadata": {},
   "outputs": [],
   "source": [
    "# explainer = cuml.explainer.KernelExplainer(model=multi_classifier.rfc.predict, data=train_x_multi.iloc[:10], random_state=42)\n",
    "# shap_values = explainer.shap_values(test_x_multi.iloc[:10])\n",
    "# shap_values\n",
    "# # explainer = cuml.explainer.TreeExplainer(model=multi_classifier.rfc)\n",
    "# # shap_values = explainer.shap_values(test_x_multi.iloc[:100])\n",
    "# # print(shap_values)"
   ]
  }
 ],
 "metadata": {
  "kernelspec": {
   "display_name": "rapids-23.06",
   "language": "python",
   "name": "python3"
  },
  "language_info": {
   "codemirror_mode": {
    "name": "ipython",
    "version": 3
   },
   "file_extension": ".py",
   "mimetype": "text/x-python",
   "name": "python",
   "nbconvert_exporter": "python",
   "pygments_lexer": "ipython3",
   "version": "3.10.12"
  },
  "orig_nbformat": 4
 },
 "nbformat": 4,
 "nbformat_minor": 2
}
