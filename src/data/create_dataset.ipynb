{
 "cells": [
  {
   "cell_type": "code",
   "execution_count": 18,
   "metadata": {},
   "outputs": [],
   "source": [
    "import sys\n",
    "from pathlib import Path\n",
    "sys.path.append(str(Path(sys.argv[0]).absolute().parent.parent.parent.parent))\n",
    "# add the entire folder to path\n",
    "from src.utils import utils"
   ]
  },
  {
   "cell_type": "code",
   "execution_count": null,
   "metadata": {},
   "outputs": [],
   "source": [
    "user = input(\"user: \")\n",
    "password = input(\"password: \")\n",
    "ip = input(\"ip: \")\n",
    "key = input(\"key: \")"
   ]
  },
  {
   "cell_type": "code",
   "execution_count": null,
   "metadata": {},
   "outputs": [],
   "source": [
    "from sqlalchemy import create_engine\n",
    "import pandas as pd\n",
    "\n",
    "sql_uri = f'mysql+pymysql://{user}:{password}@{ip}:3306/playerdata'\n",
    "\n",
    "engine = create_engine(sql_uri)\n",
    "sql=f'''\n",
    "select \n",
    "    HEX(AES_ENCRYPT(pl.name, \"{key}\")) as name, \n",
    "    pl.created_at, \n",
    "    pl.updated_at, \n",
    "    pl.possible_ban, \n",
    "    pl.confirmed_ban, \n",
    "    pl.label_id, \n",
    "    lb.label,\n",
    "    case \n",
    "        when label_jagex = 2 then \"banned\"\n",
    "        else null\n",
    "    end as account_status,\n",
    "    phd.*\n",
    "from Players pl \n",
    "join playerHiscoreDataLatest phd on pl.id = phd.Player_id\n",
    "join Labels lb on pl.label_id = lb.id\n",
    "where pl.label_id <> 0'''\n",
    "with engine.connect() as conn:\n",
    "    df = pd.read_sql(sql, params=None ,con=conn)\n",
    "df"
   ]
  },
  {
   "cell_type": "code",
   "execution_count": null,
   "metadata": {},
   "outputs": [],
   "source": [
    "\n",
    "df[utils.HISCORE_COLUMNS] = df[utils.HISCORE_COLUMNS].fillna(0)\n",
    "df[utils.HISCORE_COLUMNS] = df[utils.HISCORE_COLUMNS].replace(-1, 0)\n",
    "df[\"total\"] = df[utils.SKILLS].sum(axis=1)"
   ]
  },
  {
   "cell_type": "code",
   "execution_count": null,
   "metadata": {},
   "outputs": [],
   "source": [
    "df[\"account_status\"] = df[\"account_status\"].fillna(\"not banned\")"
   ]
  },
  {
   "cell_type": "code",
   "execution_count": null,
   "metadata": {},
   "outputs": [],
   "source": [
    "from datetime import datetime \n",
    "now = datetime.now().strftime(\"%Y-%m-%d\")\n",
    "now"
   ]
  },
  {
   "cell_type": "code",
   "execution_count": null,
   "metadata": {},
   "outputs": [],
   "source": [
    "df.to_parquet(\n",
    "    f'data/{now}_hiscore_data.parquet.gzip',\n",
    "    compression='gzip'\n",
    ")\n"
   ]
  },
  {
   "cell_type": "code",
   "execution_count": null,
   "metadata": {},
   "outputs": [],
   "source": []
  }
 ],
 "metadata": {
  "kernelspec": {
   "display_name": "Python 3.11.0 ('.venv': venv)",
   "language": "python",
   "name": "python3"
  },
  "language_info": {
   "codemirror_mode": {
    "name": "ipython",
    "version": 3
   },
   "file_extension": ".py",
   "mimetype": "text/x-python",
   "name": "python",
   "nbconvert_exporter": "python",
   "pygments_lexer": "ipython3",
   "version": "3.11.0"
  },
  "orig_nbformat": 4,
  "vscode": {
   "interpreter": {
    "hash": "c7f6d531260f1c17160a8f5a953cb1ac1fbec8191ddbc8cfa936ce1a6a764d37"
   }
  }
 },
 "nbformat": 4,
 "nbformat_minor": 2
}
